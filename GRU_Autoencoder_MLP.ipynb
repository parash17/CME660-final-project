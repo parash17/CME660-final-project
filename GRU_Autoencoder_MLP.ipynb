{
 "cells": [
  {
   "cell_type": "markdown",
   "id": "61832e6f",
   "metadata": {},
   "source": [
    "# GRU-Autoencoder followed by MLP Classifier"
   ]
  },
  {
   "cell_type": "code",
   "execution_count": 34,
   "id": "5bd56e65",
   "metadata": {},
   "outputs": [],
   "source": [
    "import numpy as np\n",
    "import pandas as pd\n",
    "from sklearn.model_selection import train_test_split\n",
    "from sklearn.preprocessing import StandardScaler\n",
    "from tensorflow.keras.models import Sequential, Model\n",
    "from tensorflow.keras.layers import GRU, Dense, Input\n",
    "from keras.layers import Bidirectional, GRU, RepeatVector, Dense, TimeDistributed\n",
    "from sklearn.neural_network import MLPClassifier\n",
    "from sklearn.metrics import accuracy_score, precision_score, recall_score, f1_score, classification_report, confusion_matrix\n",
    "import matplotlib.pyplot as plt\n",
    "import seaborn as sns"
   ]
  },
  {
   "cell_type": "code",
   "execution_count": 35,
   "id": "214a2e1e",
   "metadata": {},
   "outputs": [],
   "source": [
    "# Load data from Day-2\n",
    "df_sheet1 = pd.read_excel(\"P:/Fall 2023/CHE 660/Project/Testday2_merged.xlsx\", sheet_name=\"Day2\")\n",
    "\n",
    "# Load data from Day-3\n",
    "df_sheet2 = pd.read_excel(\"P:/Fall 2023/CHE 660/Project/Testday2_merged.xlsx\", sheet_name=\"Day3\")\n",
    "\n",
    "# Load data from Day-4\n",
    "df_sheet3 = pd.read_excel(\"P:/Fall 2023/CHE 660/Project/Testday2_merged.xlsx\", sheet_name=\"Day4\")\n",
    "\n",
    "# Concatenate the data\n",
    "df_combined = pd.concat([df_sheet1, df_sheet2, df_sheet3], ignore_index=True)\n",
    "\n",
    "\n",
    "# Prepare Data\n",
    "X = df_combined.iloc[:, 1:15].values  # Features (Process variables)\n",
    "y = df_combined.iloc[:, 15].values    # Labels (Conditions)"
   ]
  },
  {
   "cell_type": "code",
   "execution_count": 36,
   "id": "e8ea0f80",
   "metadata": {},
   "outputs": [],
   "source": [
    "# Train-Validation-Test Split\n",
    "X_train, X_temp, y_train, y_temp = train_test_split(X, y, test_size=0.2, random_state=42)\n",
    "X_val, X_test, y_val, y_test = train_test_split(X_temp, y_temp, test_size=0.5, random_state=42)\n",
    "\n",
    "# Standardize Data\n",
    "scaler = StandardScaler()\n",
    "X_train_scaled = scaler.fit_transform(X_train)\n",
    "X_val_scaled = scaler.transform(X_val)\n",
    "X_test_scaled = scaler.transform(X_test)\n"
   ]
  },
  {
   "cell_type": "code",
   "execution_count": 37,
   "id": "ed51ff0a",
   "metadata": {},
   "outputs": [],
   "source": [
    "# Assuming X_train_scaled is your training data\n",
    "seq_length = 3  # Choose your desired sequence length\n",
    "\n",
    "# Reshape training data\n",
    "def reshape_data(X_scaled, seq_length):\n",
    "    num_samples, num_features = X_scaled.shape\n",
    "    num_sequences = num_samples - seq_length + 1\n",
    "\n",
    "    X_reshaped = np.zeros((num_sequences, seq_length, num_features))\n",
    "\n",
    "    for i in range(num_sequences):\n",
    "        X_reshaped[i, :, :] = X_scaled[i:i+seq_length, :]\n",
    "\n",
    "    return X_reshaped\n",
    "\n",
    "X_train_reshaped = reshape_data(X_train_scaled, seq_length)\n",
    "\n",
    "# Reshape validation data\n",
    "X_val_reshaped = reshape_data(X_val_scaled, seq_length)\n",
    "\n",
    "# Reshape test data\n",
    "X_test_reshaped = reshape_data(X_test_scaled, seq_length)"
   ]
  },
  {
   "cell_type": "code",
   "execution_count": 38,
   "id": "7d0d5a33",
   "metadata": {},
   "outputs": [],
   "source": [
    "# Build GRU-Autoencoder Model \n",
    "model = Sequential(name=\"GRU-autoencoder\")\n",
    "model.add(Input(shape=(seq_length, X_train_scaled.shape[1]), name='Input-Layer'))\n",
    "\n",
    "# Encoder Layers\n",
    "model.add(Bidirectional(GRU(units=32, activation='relu', recurrent_activation='sigmoid', stateful=False,return_sequences=True), name='Hidden-GRU-Encoder-Layer-1'))\n",
    "model.add(Bidirectional(GRU(units=16, activation='relu', recurrent_activation='sigmoid', stateful=False,return_sequences=True), name='Hidden-GRU-Encoder-Layer-2'))\n",
    "model.add(Bidirectional(GRU(units=8, activation='relu', recurrent_activation='sigmoid', stateful=False,return_sequences=True), name='Hidden-GRU-Encoder-Layer-3'))\n",
    "\n",
    "# Decoder Layers\n",
    "model.add(Bidirectional(GRU(units=8, activation='relu', recurrent_activation='sigmoid', stateful=False, return_sequences=True), name='Hidden-GRU-Decoder-Layer-1'))\n",
    "model.add(Bidirectional(GRU(units=16, activation='relu', recurrent_activation='sigmoid', stateful=False, return_sequences=True), name='Hidden-GRU-Decoder-Layer-2'))\n",
    "model.add(Bidirectional(GRU(units=32, activation='relu', recurrent_activation='sigmoid', stateful=False, return_sequences=True), name='Hidden-GRU-Decoder-Layer-3'))\n",
    "model.add(TimeDistributed(Dense(units=X_train_reshaped.shape[2], activation='linear'), name='Output-Layer'))\n"
   ]
  },
  {
   "cell_type": "code",
   "execution_count": 39,
   "id": "8ec724f6",
   "metadata": {},
   "outputs": [
    {
     "name": "stdout",
     "output_type": "stream",
     "text": [
      "Epoch 1/50\n",
      "1136/1136 [==============================] - 23s 11ms/step - loss: 0.1725 - val_loss: 0.0382\n",
      "Epoch 2/50\n",
      "1136/1136 [==============================] - 12s 10ms/step - loss: 0.0269 - val_loss: 0.0211\n",
      "Epoch 3/50\n",
      "1136/1136 [==============================] - 12s 10ms/step - loss: 0.0180 - val_loss: 0.0174\n",
      "Epoch 4/50\n",
      "1136/1136 [==============================] - 12s 10ms/step - loss: 0.0134 - val_loss: 0.0119\n",
      "Epoch 5/50\n",
      "1136/1136 [==============================] - 12s 10ms/step - loss: 0.0099 - val_loss: 0.0087\n",
      "Epoch 6/50\n",
      "1136/1136 [==============================] - 12s 11ms/step - loss: 0.0074 - val_loss: 0.0068\n",
      "Epoch 7/50\n",
      "1136/1136 [==============================] - 12s 11ms/step - loss: 0.0058 - val_loss: 0.0063\n",
      "Epoch 8/50\n",
      "1136/1136 [==============================] - 13s 11ms/step - loss: 0.0048 - val_loss: 0.0049\n",
      "Epoch 9/50\n",
      "1136/1136 [==============================] - 12s 10ms/step - loss: 0.0042 - val_loss: 0.0041\n",
      "Epoch 10/50\n",
      "1136/1136 [==============================] - 12s 10ms/step - loss: 0.0037 - val_loss: 0.0038\n",
      "Epoch 11/50\n",
      "1136/1136 [==============================] - 13s 11ms/step - loss: 0.0034 - val_loss: 0.0033\n",
      "Epoch 12/50\n",
      "1136/1136 [==============================] - 12s 10ms/step - loss: 0.0031 - val_loss: 0.0029\n",
      "Epoch 13/50\n",
      "1136/1136 [==============================] - 12s 11ms/step - loss: 0.0029 - val_loss: 0.0031\n",
      "Epoch 14/50\n",
      "1136/1136 [==============================] - 12s 10ms/step - loss: 0.0027 - val_loss: 0.0025\n",
      "Epoch 15/50\n",
      "1136/1136 [==============================] - 12s 10ms/step - loss: 0.0025 - val_loss: 0.0027\n",
      "Epoch 16/50\n",
      "1136/1136 [==============================] - 13s 11ms/step - loss: 0.0023 - val_loss: 0.0026\n",
      "Epoch 17/50\n",
      "1136/1136 [==============================] - 12s 11ms/step - loss: 0.0022 - val_loss: 0.0022\n",
      "Epoch 18/50\n",
      "1136/1136 [==============================] - 13s 11ms/step - loss: 0.0020 - val_loss: 0.0022\n",
      "Epoch 19/50\n",
      "1136/1136 [==============================] - 12s 10ms/step - loss: 0.0018 - val_loss: 0.0018\n",
      "Epoch 20/50\n",
      "1136/1136 [==============================] - 13s 11ms/step - loss: 0.0017 - val_loss: 0.0018\n",
      "Epoch 21/50\n",
      "1136/1136 [==============================] - 12s 10ms/step - loss: 0.0016 - val_loss: 0.0017\n",
      "Epoch 22/50\n",
      "1136/1136 [==============================] - 11s 10ms/step - loss: 0.0014 - val_loss: 0.0014\n",
      "Epoch 23/50\n",
      "1136/1136 [==============================] - 11s 10ms/step - loss: 0.0014 - val_loss: 0.0015\n",
      "Epoch 24/50\n",
      "1136/1136 [==============================] - 12s 10ms/step - loss: 0.0013 - val_loss: 0.0014\n",
      "Epoch 25/50\n",
      "1136/1136 [==============================] - 12s 10ms/step - loss: 0.0012 - val_loss: 0.0017\n",
      "Epoch 26/50\n",
      "1136/1136 [==============================] - 12s 11ms/step - loss: 0.0012 - val_loss: 0.0013\n",
      "Epoch 27/50\n",
      "1136/1136 [==============================] - 12s 10ms/step - loss: 0.0012 - val_loss: 0.0011\n",
      "Epoch 28/50\n",
      "1136/1136 [==============================] - 12s 10ms/step - loss: 0.0011 - val_loss: 0.0012\n",
      "Epoch 29/50\n",
      "1136/1136 [==============================] - 12s 11ms/step - loss: 0.0010 - val_loss: 0.0013\n",
      "Epoch 30/50\n",
      "1136/1136 [==============================] - 12s 11ms/step - loss: 9.8083e-04 - val_loss: 0.0011\n",
      "Epoch 31/50\n",
      "1136/1136 [==============================] - 12s 11ms/step - loss: 9.8050e-04 - val_loss: 9.9063e-04\n",
      "Epoch 32/50\n",
      "1136/1136 [==============================] - 12s 11ms/step - loss: 9.5325e-04 - val_loss: 0.0011\n",
      "Epoch 33/50\n",
      "1136/1136 [==============================] - 12s 11ms/step - loss: 9.0275e-04 - val_loss: 8.6328e-04\n",
      "Epoch 34/50\n",
      "1136/1136 [==============================] - 12s 11ms/step - loss: 8.8516e-04 - val_loss: 9.5516e-04\n",
      "Epoch 35/50\n",
      "1136/1136 [==============================] - 12s 11ms/step - loss: 8.2611e-04 - val_loss: 9.0897e-04\n",
      "Epoch 36/50\n",
      "1136/1136 [==============================] - 12s 11ms/step - loss: 8.0345e-04 - val_loss: 7.0259e-04\n",
      "Epoch 37/50\n",
      "1136/1136 [==============================] - 12s 11ms/step - loss: 7.8232e-04 - val_loss: 8.0442e-04\n",
      "Epoch 38/50\n",
      "1136/1136 [==============================] - 12s 11ms/step - loss: 7.4667e-04 - val_loss: 0.0012\n",
      "Epoch 39/50\n",
      "1136/1136 [==============================] - 13s 11ms/step - loss: 7.3452e-04 - val_loss: 8.5366e-04\n",
      "Epoch 40/50\n",
      "1136/1136 [==============================] - 12s 11ms/step - loss: 7.0471e-04 - val_loss: 8.9378e-04\n",
      "Epoch 41/50\n",
      "1136/1136 [==============================] - 12s 11ms/step - loss: 6.9028e-04 - val_loss: 8.4348e-04\n",
      "Epoch 42/50\n",
      "1136/1136 [==============================] - 12s 11ms/step - loss: 6.7690e-04 - val_loss: 8.2312e-04\n",
      "Epoch 43/50\n",
      "1136/1136 [==============================] - 11s 10ms/step - loss: 6.6371e-04 - val_loss: 6.1908e-04\n",
      "Epoch 44/50\n",
      "1136/1136 [==============================] - 12s 10ms/step - loss: 6.4821e-04 - val_loss: 7.7325e-04\n",
      "Epoch 45/50\n",
      "1136/1136 [==============================] - 12s 11ms/step - loss: 6.1329e-04 - val_loss: 0.0014\n",
      "Epoch 46/50\n",
      "1136/1136 [==============================] - 12s 10ms/step - loss: 6.1980e-04 - val_loss: 9.7235e-04\n",
      "Epoch 47/50\n",
      "1136/1136 [==============================] - 12s 11ms/step - loss: 6.0191e-04 - val_loss: 5.6997e-04\n",
      "Epoch 48/50\n",
      "1136/1136 [==============================] - 12s 11ms/step - loss: 5.9461e-04 - val_loss: 4.8766e-04\n",
      "Epoch 49/50\n",
      "1136/1136 [==============================] - 12s 11ms/step - loss: 5.6886e-04 - val_loss: 5.4155e-04\n",
      "Epoch 50/50\n",
      "1136/1136 [==============================] - 13s 11ms/step - loss: 5.6269e-04 - val_loss: 5.5060e-04\n"
     ]
    },
    {
     "data": {
      "text/plain": [
       "<keras.src.callbacks.History at 0x29544152c70>"
      ]
     },
     "execution_count": 39,
     "metadata": {},
     "output_type": "execute_result"
    }
   ],
   "source": [
    "model.compile(optimizer='adam', loss='mse')  # Mean Squared Error (MSE) loss for reconstruction\n",
    "\n",
    "# Train the Model\n",
    "model.fit(X_train_reshaped, X_train_reshaped, epochs=50, batch_size=32, validation_data=(X_val_reshaped, X_val_reshaped))"
   ]
  },
  {
   "cell_type": "code",
   "execution_count": 40,
   "id": "48d82f11",
   "metadata": {},
   "outputs": [
    {
     "name": "stdout",
     "output_type": "stream",
     "text": [
      "Model: \"GRU-autoencoder\"\n",
      "_________________________________________________________________\n",
      " Layer (type)                Output Shape              Param #   \n",
      "=================================================================\n",
      " Hidden-GRU-Encoder-Layer-1  (None, 3, 64)             9216      \n",
      "  (Bidirectional)                                                \n",
      "                                                                 \n",
      " Hidden-GRU-Encoder-Layer-2  (None, 3, 32)             7872      \n",
      "  (Bidirectional)                                                \n",
      "                                                                 \n",
      " Hidden-GRU-Encoder-Layer-3  (None, 3, 16)             2016      \n",
      "  (Bidirectional)                                                \n",
      "                                                                 \n",
      " Hidden-GRU-Decoder-Layer-1  (None, 3, 16)             1248      \n",
      "  (Bidirectional)                                                \n",
      "                                                                 \n",
      " Hidden-GRU-Decoder-Layer-2  (None, 3, 32)             3264      \n",
      "  (Bidirectional)                                                \n",
      "                                                                 \n",
      " Hidden-GRU-Decoder-Layer-3  (None, 3, 64)             12672     \n",
      "  (Bidirectional)                                                \n",
      "                                                                 \n",
      " Output-Layer (TimeDistribu  (None, 3, 14)             910       \n",
      " ted)                                                            \n",
      "                                                                 \n",
      "=================================================================\n",
      "Total params: 37198 (145.30 KB)\n",
      "Trainable params: 37198 (145.30 KB)\n",
      "Non-trainable params: 0 (0.00 Byte)\n",
      "_________________________________________________________________\n"
     ]
    },
    {
     "data": {
      "image/png": "[encoded data removed]",
      "text/plain": [
       "<Figure size 640x480 with 1 Axes>"
      ]
     },
     "metadata": {},
     "output_type": "display_data"
    }
   ],
   "source": [
    "model.summary()\n",
    "\n",
    "\n",
    "# Plot Training and Validation Loss\n",
    "plt.plot(model.history.history['loss'], label='Training Loss')\n",
    "plt.plot(model.history.history['val_loss'], label='Validation Loss')\n",
    "plt.xlabel('Epochs')\n",
    "plt.ylabel('Loss')\n",
    "plt.legend()\n",
    "plt.title('Training and Validation Loss Over Epochs')\n",
    "plt.show()"
   ]
  },
  {
   "cell_type": "code",
   "execution_count": 41,
   "id": "92fbb809",
   "metadata": {},
   "outputs": [
    {
     "name": "stdout",
     "output_type": "stream",
     "text": [
      "Model: \"model_2\"\n",
      "_________________________________________________________________\n",
      " Layer (type)                Output Shape              Param #   \n",
      "=================================================================\n",
      " Input-Layer (InputLayer)    [(None, 3, 14)]           0         \n",
      "                                                                 \n",
      " Hidden-GRU-Encoder-Layer-1  (None, 3, 64)             9216      \n",
      "  (Bidirectional)                                                \n",
      "                                                                 \n",
      " Hidden-GRU-Encoder-Layer-2  (None, 3, 32)             7872      \n",
      "  (Bidirectional)                                                \n",
      "                                                                 \n",
      " Hidden-GRU-Encoder-Layer-3  (None, 3, 16)             2016      \n",
      "  (Bidirectional)                                                \n",
      "                                                                 \n",
      "=================================================================\n",
      "Total params: 19104 (74.62 KB)\n",
      "Trainable params: 19104 (74.62 KB)\n",
      "Non-trainable params: 0 (0.00 Byte)\n",
      "_________________________________________________________________\n",
      "1136/1136 [==============================] - 3s 2ms/step\n",
      "142/142 [==============================] - 0s 2ms/step\n",
      "142/142 [==============================] - 0s 2ms/step\n"
     ]
    }
   ],
   "source": [
    "# Extract Encoder Part (Dimensionality Reduction)\n",
    "encoder = Model(inputs=model.input, outputs=model.layers[2].output)\n",
    "\n",
    "# Display Encoder Architecture\n",
    "encoder.summary()\n",
    "\n",
    "\n",
    "# Transform Data using the Encoder\n",
    "X_train_encoded = encoder.predict(X_train_reshaped)\n",
    "X_val_encoded = encoder.predict(X_val_reshaped)\n",
    "X_test_encoded = encoder.predict(X_test_reshaped)"
   ]
  },
  {
   "cell_type": "code",
   "execution_count": 42,
   "id": "d1d3db9f",
   "metadata": {},
   "outputs": [],
   "source": [
    "# Convert sequence data back to normal form for classification\n",
    "def pick_first_samples(X_sequence):\n",
    "    num_sequences, seq_length, num_features = X_sequence.shape\n",
    "    # For the last sequence, consider all samples\n",
    "    flattened = X_sequence[:-1, 0, :].reshape(-1, num_features)\n",
    "    # For the last sequence, consider all samples\n",
    "    flattened = np.vstack([flattened, X_sequence[-1, :, :].reshape(-1, num_features)])\n",
    "    return flattened\n",
    "\n",
    "# Apply on training, validation and testing data\n",
    "X_train_flat_picked = pick_first_samples(X_train_encoded)\n",
    "X_val_flat_picked = pick_first_samples(X_val_encoded)\n",
    "X_test_flat_picked = pick_first_samples(X_test_encoded)"
   ]
  },
  {
   "cell_type": "code",
   "execution_count": 43,
   "id": "886a7651",
   "metadata": {},
   "outputs": [
    {
     "data": {
      "text/plain": [
       "MLPClassifier(hidden_layer_sizes=(128, 64, 32), max_iter=1000, random_state=42)"
      ]
     },
     "execution_count": 43,
     "metadata": {},
     "output_type": "execute_result"
    }
   ],
   "source": [
    "# Classifier Model\n",
    "classifier = MLPClassifier(hidden_layer_sizes=(128, 64, 32), max_iter=1000, random_state=42)\n",
    "\n",
    "# Train the classifier\n",
    "classifier.fit(X_train_flat_picked, y_train)"
   ]
  },
  {
   "cell_type": "code",
   "execution_count": 44,
   "id": "3e9fe18e",
   "metadata": {},
   "outputs": [
    {
     "name": "stdout",
     "output_type": "stream",
     "text": [
      "Number of trainable parameters: 12677\n"
     ]
    }
   ],
   "source": [
    "# Get the learned coefficients and intercepts\n",
    "coefficients = classifier.coefs_\n",
    "intercepts = classifier.intercepts_\n",
    "\n",
    "# Calculate the number of parameters\n",
    "num_parameters = sum(np.prod(coef.shape) for coef in coefficients) + sum(len(intercept) for intercept in intercepts)\n",
    "\n",
    "print(f\"Number of trainable parameters: {num_parameters}\")"
   ]
  },
  {
   "cell_type": "code",
   "execution_count": 45,
   "id": "7be9c46b",
   "metadata": {},
   "outputs": [
    {
     "name": "stdout",
     "output_type": "stream",
     "text": [
      "Validation Accuracy: 0.9833\n"
     ]
    }
   ],
   "source": [
    "# Predictions on validation set\n",
    "y_val_pred = classifier.predict(X_val_flat_picked)\n",
    "\n",
    "# Calculate accuracy on validation set\n",
    "accuracy_val = accuracy_score(y_val, y_val_pred)\n",
    "print(f\"Validation Accuracy: {accuracy_val:.4f}\")"
   ]
  },
  {
   "cell_type": "code",
   "execution_count": 46,
   "id": "097ab4d6",
   "metadata": {},
   "outputs": [
    {
     "data": {
      "image/png": "[encoded data removed]",
      "text/plain": [
       "<Figure size 800x600 with 2 Axes>"
      ]
     },
     "metadata": {},
     "output_type": "display_data"
    },
    {
     "name": "stdout",
     "output_type": "stream",
     "text": [
      "Test Accuracy: 0.9773\n",
      "Precision: 0.9776\n",
      "Recall: 0.9773\n",
      "F1 Score: 0.9773\n",
      "Classification Report:\n",
      "                precision    recall  f1-score   support\n",
      "\n",
      " Air blockage       0.98      0.99      0.99       897\n",
      "  Air leakage       0.98      0.94      0.96       816\n",
      "Diverted flow       0.99      0.99      0.99      1166\n",
      "       Normal       0.95      0.97      0.96      1153\n",
      "     Slugging       1.00      0.99      1.00       510\n",
      "\n",
      "     accuracy                           0.98      4542\n",
      "    macro avg       0.98      0.98      0.98      4542\n",
      " weighted avg       0.98      0.98      0.98      4542\n",
      "\n"
     ]
    }
   ],
   "source": [
    "# Predictions on test set\n",
    "y_test_pred = classifier.predict(X_test_flat_picked)\n",
    "\n",
    "# Confusion matrix\n",
    "cm = confusion_matrix(y_test, y_test_pred)\n",
    "\n",
    "# Plot the confusion matrix\n",
    "plt.figure(figsize=(8, 6))\n",
    "sns.heatmap(cm, annot=True, fmt='d', cmap='Blues', xticklabels=np.unique(y), yticklabels=np.unique(y))\n",
    "plt.title('Confusion Matrix - Test Data')\n",
    "plt.xlabel('Predicted')\n",
    "plt.ylabel('True')\n",
    "plt.show()\n",
    "\n",
    "# Calculate precision, recall, and F1-score on test set\n",
    "accuracy_test = accuracy_score(y_test, y_test_pred)\n",
    "precision = precision_score(y_test, y_test_pred, average='weighted')\n",
    "recall = recall_score(y_test, y_test_pred, average='weighted')\n",
    "f1 = f1_score(y_test, y_test_pred, average='weighted')\n",
    "\n",
    "print(f\"Test Accuracy: {accuracy_test:.4f}\")\n",
    "print(f\"Precision: {precision:.4f}\")\n",
    "print(f\"Recall: {recall:.4f}\")\n",
    "print(f\"F1 Score: {f1:.4f}\")\n",
    "\n",
    "# Classification Report\n",
    "class_report = classification_report(y_test, y_test_pred)\n",
    "print(\"Classification Report:\\n\", class_report)"
   ]
  },
  {
   "cell_type": "code",
   "execution_count": null,
   "id": "231fc024",
   "metadata": {},
   "outputs": [],
   "source": []
  }
 ],
 "metadata": {
  "kernelspec": {
   "display_name": "Python 3 (ipykernel)",
   "language": "python",
   "name": "python3"
  },
  "language_info": {
   "codemirror_mode": {
    "name": "ipython",
    "version": 3
   },
   "file_extension": ".py",
   "mimetype": "text/x-python",
   "name": "python",
   "nbconvert_exporter": "python",
   "pygments_lexer": "ipython3",
   "version": "3.9.13"
  }
 },
 "nbformat": 4,
 "nbformat_minor": 5
}
